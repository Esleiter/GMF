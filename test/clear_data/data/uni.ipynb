{
 "cells": [
  {
   "cell_type": "code",
   "execution_count": 1,
   "metadata": {},
   "outputs": [
    {
     "name": "stdout",
     "output_type": "stream",
     "text": [
      "Requirement already satisfied: pandas in c:\\python311\\lib\\site-packages (2.1.1)\n",
      "Requirement already satisfied: numpy>=1.23.2 in c:\\python311\\lib\\site-packages (from pandas) (1.26.0)\n",
      "Requirement already satisfied: python-dateutil>=2.8.2 in c:\\users\\ceo\\appdata\\roaming\\python\\python311\\site-packages (from pandas) (2.8.2)\n",
      "Requirement already satisfied: pytz>=2020.1 in c:\\python311\\lib\\site-packages (from pandas) (2023.3.post1)\n",
      "Requirement already satisfied: tzdata>=2022.1 in c:\\python311\\lib\\site-packages (from pandas) (2023.3)\n",
      "Requirement already satisfied: six>=1.5 in c:\\users\\ceo\\appdata\\roaming\\python\\python311\\site-packages (from python-dateutil>=2.8.2->pandas) (1.16.0)\n"
     ]
    },
    {
     "name": "stderr",
     "output_type": "stream",
     "text": [
      "DEPRECATION: Loading egg at c:\\python311\\lib\\site-packages\\vboxapi-1.0-py3.11.egg is deprecated. pip 23.3 will enforce this behaviour change. A possible replacement is to use pip for package installation..\n"
     ]
    }
   ],
   "source": [
    "!pip3 install pandas"
   ]
  },
  {
   "cell_type": "code",
   "execution_count": null,
   "metadata": {},
   "outputs": [],
   "source": [
    "import os\n",
    "import pandas as pd\n",
    "\n",
    "# Ruta de la carpeta que contiene los archivos CSV\n",
    "carpeta_archivos = \"./results/\"\n",
    "\n",
    "# Inicializa un DataFrame vacío para almacenar los datos combinados\n",
    "datos_combinados = pd.DataFrame()\n",
    "\n",
    "# Itera sobre los archivos en la carpeta\n",
    "for archivo in os.listdir(carpeta_archivos):\n",
    "    if archivo.endswith(\".csv\"):\n",
    "        # Lee el archivo CSV\n",
    "        ruta_archivo = os.path.join(carpeta_archivos, archivo)\n",
    "        df = pd.read_csv(ruta_archivo)\n",
    "        \n",
    "        # Combina los datos del archivo con el DataFrame combinado\n",
    "        datos_combinados = pd.concat([datos_combinados, df], ignore_index=True)\n",
    "\n",
    "# Guarda el DataFrame combinado en un nuevo archivo CSV\n",
    "ruta_archivo_combinado = \"./results/2027-08102023.csv\"\n",
    "datos_combinados.to_csv(ruta_archivo_combinado, index=False)"
   ]
  }
 ],
 "metadata": {
  "kernelspec": {
   "display_name": "Python 3",
   "language": "python",
   "name": "python3"
  },
  "language_info": {
   "codemirror_mode": {
    "name": "ipython",
    "version": 3
   },
   "file_extension": ".py",
   "mimetype": "text/x-python",
   "name": "python",
   "nbconvert_exporter": "python",
   "pygments_lexer": "ipython3",
   "version": "3.11.4"
  }
 },
 "nbformat": 4,
 "nbformat_minor": 2
}
