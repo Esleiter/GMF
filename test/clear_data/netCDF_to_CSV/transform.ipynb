{
 "cells": [
  {
   "cell_type": "code",
   "execution_count": 14,
   "metadata": {},
   "outputs": [
    {
     "name": "stdout",
     "output_type": "stream",
     "text": [
      "Requirement already satisfied: netCDF4 in c:\\python311\\lib\\site-packages (1.6.4)"
     ]
    },
    {
     "name": "stderr",
     "output_type": "stream",
     "text": [
      "DEPRECATION: Loading egg at c:\\python311\\lib\\site-packages\\vboxapi-1.0-py3.11.egg is deprecated. pip 23.3 will enforce this behaviour change. A possible replacement is to use pip for package installation..\n"
     ]
    },
    {
     "name": "stdout",
     "output_type": "stream",
     "text": [
      "\n",
      "Requirement already satisfied: matplotlib in c:\\python311\\lib\\site-packages (3.8.0)\n",
      "Requirement already satisfied: cftime in c:\\python311\\lib\\site-packages (from netCDF4) (1.6.2)\n",
      "Requirement already satisfied: certifi in c:\\python311\\lib\\site-packages (from netCDF4) (2023.7.22)\n",
      "Requirement already satisfied: numpy in c:\\python311\\lib\\site-packages (from netCDF4) (1.26.0)\n",
      "Requirement already satisfied: contourpy>=1.0.1 in c:\\python311\\lib\\site-packages (from matplotlib) (1.1.1)\n",
      "Requirement already satisfied: cycler>=0.10 in c:\\python311\\lib\\site-packages (from matplotlib) (0.11.0)\n",
      "Requirement already satisfied: fonttools>=4.22.0 in c:\\python311\\lib\\site-packages (from matplotlib) (4.42.1)\n",
      "Requirement already satisfied: kiwisolver>=1.0.1 in c:\\python311\\lib\\site-packages (from matplotlib) (1.4.5)\n",
      "Requirement already satisfied: packaging>=20.0 in c:\\users\\ceo\\appdata\\roaming\\python\\python311\\site-packages (from matplotlib) (23.1)\n",
      "Requirement already satisfied: pillow>=6.2.0 in c:\\python311\\lib\\site-packages (from matplotlib) (10.0.1)\n",
      "Requirement already satisfied: pyparsing>=2.3.1 in c:\\python311\\lib\\site-packages (from matplotlib) (3.1.1)\n",
      "Requirement already satisfied: python-dateutil>=2.7 in c:\\users\\ceo\\appdata\\roaming\\python\\python311\\site-packages (from matplotlib) (2.8.2)\n",
      "Requirement already satisfied: six>=1.5 in c:\\users\\ceo\\appdata\\roaming\\python\\python311\\site-packages (from python-dateutil>=2.7->matplotlib) (1.16.0)\n",
      "Requirement already satisfied: pandas in c:\\python311\\lib\\site-packages (2.1.1)\n",
      "Requirement already satisfied: numpy>=1.23.2 in c:\\python311\\lib\\site-packages (from pandas) (1.26.0)\n",
      "Requirement already satisfied: python-dateutil>=2.8.2 in c:\\users\\ceo\\appdata\\roaming\\python\\python311\\site-packages (from pandas) (2.8.2)\n",
      "Requirement already satisfied: pytz>=2020.1 in c:\\python311\\lib\\site-packages (from pandas) (2023.3.post1)\n",
      "Requirement already satisfied: tzdata>=2022.1 in c:\\python311\\lib\\site-packages (from pandas) (2023.3)\n",
      "Requirement already satisfied: six>=1.5 in c:\\users\\ceo\\appdata\\roaming\\python\\python311\\site-packages (from python-dateutil>=2.8.2->pandas) (1.16.0)\n"
     ]
    },
    {
     "name": "stderr",
     "output_type": "stream",
     "text": [
      "DEPRECATION: Loading egg at c:\\python311\\lib\\site-packages\\vboxapi-1.0-py3.11.egg is deprecated. pip 23.3 will enforce this behaviour change. A possible replacement is to use pip for package installation..\n"
     ]
    },
    {
     "name": "stdout",
     "output_type": "stream",
     "text": [
      "Requirement already satisfied: matplotlib in c:\\python311\\lib\\site-packages (3.8.0)\n",
      "Requirement already satisfied: contourpy>=1.0.1 in c:\\python311\\lib\\site-packages (from matplotlib) (1.1.1)\n",
      "Requirement already satisfied: cycler>=0.10 in c:\\python311\\lib\\site-packages (from matplotlib) (0.11.0)\n",
      "Requirement already satisfied: fonttools>=4.22.0 in c:\\python311\\lib\\site-packages (from matplotlib) (4.42.1)\n",
      "Requirement already satisfied: kiwisolver>=1.0.1 in c:\\python311\\lib\\site-packages (from matplotlib) (1.4.5)\n",
      "Requirement already satisfied: numpy<2,>=1.21 in c:\\python311\\lib\\site-packages (from matplotlib) (1.26.0)\n",
      "Requirement already satisfied: packaging>=20.0 in c:\\users\\ceo\\appdata\\roaming\\python\\python311\\site-packages (from matplotlib) (23.1)\n",
      "Requirement already satisfied: pillow>=6.2.0 in c:\\python311\\lib\\site-packages (from matplotlib) (10.0.1)\n",
      "Requirement already satisfied: pyparsing>=2.3.1 in c:\\python311\\lib\\site-packages (from matplotlib) (3.1.1)\n",
      "Requirement already satisfied: python-dateutil>=2.7 in c:\\users\\ceo\\appdata\\roaming\\python\\python311\\site-packages (from matplotlib) (2.8.2)\n",
      "Requirement already satisfied: six>=1.5 in c:\\users\\ceo\\appdata\\roaming\\python\\python311\\site-packages (from python-dateutil>=2.7->matplotlib) (1.16.0)\n"
     ]
    },
    {
     "name": "stderr",
     "output_type": "stream",
     "text": [
      "DEPRECATION: Loading egg at c:\\python311\\lib\\site-packages\\vboxapi-1.0-py3.11.egg is deprecated. pip 23.3 will enforce this behaviour change. A possible replacement is to use pip for package installation..\n"
     ]
    }
   ],
   "source": [
    "!pip3 install netCDF4 matplotlib\n",
    "!pip3 install pandas\n",
    "!pip3 install matplotlib"
   ]
  },
  {
   "cell_type": "code",
   "execution_count": 9,
   "metadata": {},
   "outputs": [
    {
     "ename": "PermissionError",
     "evalue": "[Errno 1] Operation not permitted: 'dummy'",
     "output_type": "error",
     "traceback": [
      "\u001b[1;31m---------------------------------------------------------------------------\u001b[0m",
      "\u001b[1;31mPermissionError\u001b[0m                           Traceback (most recent call last)",
      "\u001b[1;32mc:\\Users\\ceo\\Desktop\\Nueva carpeta\\GMF\\test\\clear_data\\netCDF_to_CSV\\transform.ipynb Celda 2\u001b[0m line \u001b[0;36m1\n\u001b[0;32m     <a href='vscode-notebook-cell:/c%3A/Users/ceo/Desktop/Nueva%20carpeta/GMF/test/clear_data/netCDF_to_CSV/transform.ipynb#W1sZmlsZQ%3D%3D?line=15'>16</a>\u001b[0m archivo_completo \u001b[39m=\u001b[39m os\u001b[39m.\u001b[39mpath\u001b[39m.\u001b[39mjoin(carpeta_archivos, archivo)\n\u001b[0;32m     <a href='vscode-notebook-cell:/c%3A/Users/ceo/Desktop/Nueva%20carpeta/GMF/test/clear_data/netCDF_to_CSV/transform.ipynb#W1sZmlsZQ%3D%3D?line=16'>17</a>\u001b[0m \u001b[39mwith\u001b[39;00m gzip\u001b[39m.\u001b[39mopen(archivo_completo, \u001b[39m'\u001b[39m\u001b[39mrb\u001b[39m\u001b[39m'\u001b[39m) \u001b[39mas\u001b[39;00m gz:\n\u001b[1;32m---> <a href='vscode-notebook-cell:/c%3A/Users/ceo/Desktop/Nueva%20carpeta/GMF/test/clear_data/netCDF_to_CSV/transform.ipynb#W1sZmlsZQ%3D%3D?line=17'>18</a>\u001b[0m     \u001b[39mwith\u001b[39;00m netCDF4\u001b[39m.\u001b[39;49mDataset(\u001b[39m'\u001b[39;49m\u001b[39mdummy\u001b[39;49m\u001b[39m'\u001b[39;49m, mode\u001b[39m=\u001b[39;49m\u001b[39m'\u001b[39;49m\u001b[39mr\u001b[39;49m\u001b[39m'\u001b[39;49m, memory\u001b[39m=\u001b[39;49mgz\u001b[39m.\u001b[39;49mread()) \u001b[39mas\u001b[39;00m nc:\n\u001b[0;32m     <a href='vscode-notebook-cell:/c%3A/Users/ceo/Desktop/Nueva%20carpeta/GMF/test/clear_data/netCDF_to_CSV/transform.ipynb#W1sZmlsZQ%3D%3D?line=18'>19</a>\u001b[0m         time \u001b[39m=\u001b[39m nc\u001b[39m.\u001b[39mvariables[\u001b[39m'\u001b[39m\u001b[39mtime\u001b[39m\u001b[39m'\u001b[39m][:]\n\u001b[0;32m     <a href='vscode-notebook-cell:/c%3A/Users/ceo/Desktop/Nueva%20carpeta/GMF/test/clear_data/netCDF_to_CSV/transform.ipynb#W1sZmlsZQ%3D%3D?line=19'>20</a>\u001b[0m         bx_gsm \u001b[39m=\u001b[39m nc\u001b[39m.\u001b[39mvariables[\u001b[39m'\u001b[39m\u001b[39mbx_gsm\u001b[39m\u001b[39m'\u001b[39m][:]\n",
      "File \u001b[1;32msrc\\netCDF4\\_netCDF4.pyx:2464\u001b[0m, in \u001b[0;36mnetCDF4._netCDF4.Dataset.__init__\u001b[1;34m()\u001b[0m\n",
      "File \u001b[1;32msrc\\netCDF4\\_netCDF4.pyx:2027\u001b[0m, in \u001b[0;36mnetCDF4._netCDF4._ensure_nc_success\u001b[1;34m()\u001b[0m\n",
      "\u001b[1;31mPermissionError\u001b[0m: [Errno 1] Operation not permitted: 'dummy'"
     ]
    }
   ],
   "source": [
    "import os\n",
    "import netCDF4\n",
    "import gzip\n",
    "import pandas as pd\n",
    "import datetime\n",
    "\n",
    "# Carpeta donde se encuentran los archivos .nc.gz\n",
    "carpeta_archivos = './all_CDFs/1/'\n",
    "\n",
    "# Lista para almacenar DataFrames individuales\n",
    "dataframes = []\n",
    "\n",
    "# Itera sobre los archivos en la carpeta\n",
    "for archivo in os.listdir(carpeta_archivos):\n",
    "    if archivo.endswith('.nc.gz'):\n",
    "        archivo_completo = os.path.join(carpeta_archivos, archivo)\n",
    "        with gzip.open(archivo_completo, 'rb') as gz:\n",
    "            with netCDF4.Dataset(mode='r', memory=gz.read()) as nc:\n",
    "                time = nc.variables['time'][:]\n",
    "                bx_gsm = nc.variables['bx_gsm'][:]\n",
    "                by_gsm = nc.variables['by_gsm'][:]\n",
    "                bz_gsm = nc.variables['bz_gsm'][:]\n",
    "                bt = nc.variables['bt'][:]\n",
    "\n",
    "        df = pd.DataFrame({'Timesteps': time, 'bx_gsm': bx_gsm, 'by_gsm': by_gsm, 'bz_gsm': bz_gsm, 'bt': bt})\n",
    "        df['Timesteps'] = [datetime.datetime.fromtimestamp(ts / 1000) for ts in df['Timesteps']]\n",
    "        df['Timesteps'] = pd.to_datetime(df['Timesteps'])\n",
    "        df.set_index('Timesteps', inplace=True)\n",
    "        dataframes.append(df)\n",
    "\n",
    "# Combina los DataFrames individuales en uno solo\n",
    "df_concatenado = pd.concat(dataframes)\n",
    "\n",
    "# Resamplea el DataFrame combinado en intervalos de 3 horas ascendentes y guarda en un archivo CSV\n",
    "df_resampled = df_concatenado.resample('3H').mean()\n",
    "df_resampled.to_csv('formatted_combined_data.csv', index=True)\n"
   ]
  }
 ],
 "metadata": {
  "kernelspec": {
   "display_name": "Python 3",
   "language": "python",
   "name": "python3"
  },
  "language_info": {
   "codemirror_mode": {
    "name": "ipython",
    "version": 3
   },
   "file_extension": ".py",
   "mimetype": "text/x-python",
   "name": "python",
   "nbconvert_exporter": "python",
   "pygments_lexer": "ipython3",
   "version": "3.11.4"
  }
 },
 "nbformat": 4,
 "nbformat_minor": 2
}
