{
 "cells": [
  {
   "cell_type": "code",
   "execution_count": 1,
   "metadata": {},
   "outputs": [
    {
     "name": "stdout",
     "output_type": "stream",
     "text": [
      "Requirement already satisfied: pandas in c:\\python311\\lib\\site-packages (2.1.1)\n",
      "Requirement already satisfied: numpy>=1.23.2 in c:\\python311\\lib\\site-packages (from pandas) (1.26.0)\n",
      "Requirement already satisfied: python-dateutil>=2.8.2 in c:\\users\\ceo\\appdata\\roaming\\python\\python311\\site-packages (from pandas) (2.8.2)\n",
      "Requirement already satisfied: pytz>=2020.1 in c:\\python311\\lib\\site-packages (from pandas) (2023.3.post1)\n",
      "Requirement already satisfied: tzdata>=2022.1 in c:\\python311\\lib\\site-packages (from pandas) (2023.3)\n",
      "Requirement already satisfied: six>=1.5 in c:\\users\\ceo\\appdata\\roaming\\python\\python311\\site-packages (from python-dateutil>=2.8.2->pandas) (1.16.0)\n"
     ]
    },
    {
     "name": "stderr",
     "output_type": "stream",
     "text": [
      "DEPRECATION: Loading egg at c:\\python311\\lib\\site-packages\\vboxapi-1.0-py3.11.egg is deprecated. pip 23.3 will enforce this behaviour change. A possible replacement is to use pip for package installation..\n"
     ]
    }
   ],
   "source": [
    "!pip3 install pandas"
   ]
  },
  {
   "cell_type": "code",
   "execution_count": 14,
   "metadata": {},
   "outputs": [
    {
     "name": "stderr",
     "output_type": "stream",
     "text": [
      "C:\\Users\\ceo\\AppData\\Local\\Temp\\ipykernel_21724\\2341271216.py:4: FutureWarning: The argument 'infer_datetime_format' is deprecated and will be removed in a future version. A strict version of it is now the default, see https://pandas.pydata.org/pdeps/0004-consistent-to-datetime-parsing.html. You can safely remove this argument.\n",
      "  df = pd.read_csv('./data/dsc_fc_summed_spectra_2017_v01.csv', delimiter=',', parse_dates=[0], infer_datetime_format=True, na_values='0', header=None)\n"
     ]
    },
    {
     "data": {
      "text/html": [
       "<div>\n",
       "<style scoped>\n",
       "    .dataframe tbody tr th:only-of-type {\n",
       "        vertical-align: middle;\n",
       "    }\n",
       "\n",
       "    .dataframe tbody tr th {\n",
       "        vertical-align: top;\n",
       "    }\n",
       "\n",
       "    .dataframe thead th {\n",
       "        text-align: right;\n",
       "    }\n",
       "</style>\n",
       "<table border=\"1\" class=\"dataframe\">\n",
       "  <thead>\n",
       "    <tr style=\"text-align: right;\">\n",
       "      <th></th>\n",
       "      <th>bx_gsm</th>\n",
       "      <th>by_gsm</th>\n",
       "      <th>bz_gsm</th>\n",
       "      <th>bt</th>\n",
       "    </tr>\n",
       "    <tr>\n",
       "      <th>Timesteps</th>\n",
       "      <th></th>\n",
       "      <th></th>\n",
       "      <th></th>\n",
       "      <th></th>\n",
       "    </tr>\n",
       "  </thead>\n",
       "  <tbody>\n",
       "    <tr>\n",
       "      <th>2017-01-01 00:00:00</th>\n",
       "      <td>-4.384540</td>\n",
       "      <td>0.151482</td>\n",
       "      <td>-2.747153</td>\n",
       "      <td>5.864738</td>\n",
       "    </tr>\n",
       "    <tr>\n",
       "      <th>2017-01-01 03:00:00</th>\n",
       "      <td>-2.083439</td>\n",
       "      <td>-0.208964</td>\n",
       "      <td>-2.461775</td>\n",
       "      <td>5.662317</td>\n",
       "    </tr>\n",
       "    <tr>\n",
       "      <th>2017-01-01 06:00:00</th>\n",
       "      <td>-1.154902</td>\n",
       "      <td>0.917093</td>\n",
       "      <td>-1.160736</td>\n",
       "      <td>4.204290</td>\n",
       "    </tr>\n",
       "    <tr>\n",
       "      <th>2017-01-01 09:00:00</th>\n",
       "      <td>-0.272552</td>\n",
       "      <td>-0.552822</td>\n",
       "      <td>-0.523117</td>\n",
       "      <td>4.356062</td>\n",
       "    </tr>\n",
       "    <tr>\n",
       "      <th>2017-01-01 12:00:00</th>\n",
       "      <td>1.430231</td>\n",
       "      <td>2.103350</td>\n",
       "      <td>-0.312276</td>\n",
       "      <td>4.290185</td>\n",
       "    </tr>\n",
       "    <tr>\n",
       "      <th>...</th>\n",
       "      <td>...</td>\n",
       "      <td>...</td>\n",
       "      <td>...</td>\n",
       "      <td>...</td>\n",
       "    </tr>\n",
       "    <tr>\n",
       "      <th>2017-12-31 09:00:00</th>\n",
       "      <td>3.658482</td>\n",
       "      <td>-2.430448</td>\n",
       "      <td>0.166257</td>\n",
       "      <td>4.530270</td>\n",
       "    </tr>\n",
       "    <tr>\n",
       "      <th>2017-12-31 12:00:00</th>\n",
       "      <td>3.384390</td>\n",
       "      <td>-2.509963</td>\n",
       "      <td>-1.038631</td>\n",
       "      <td>4.461616</td>\n",
       "    </tr>\n",
       "    <tr>\n",
       "      <th>2017-12-31 15:00:00</th>\n",
       "      <td>1.342645</td>\n",
       "      <td>-0.918524</td>\n",
       "      <td>0.149300</td>\n",
       "      <td>2.474354</td>\n",
       "    </tr>\n",
       "    <tr>\n",
       "      <th>2017-12-31 18:00:00</th>\n",
       "      <td>-2.778200</td>\n",
       "      <td>5.822396</td>\n",
       "      <td>-3.293690</td>\n",
       "      <td>8.558351</td>\n",
       "    </tr>\n",
       "    <tr>\n",
       "      <th>2017-12-31 21:00:00</th>\n",
       "      <td>-2.124427</td>\n",
       "      <td>2.230643</td>\n",
       "      <td>-4.455239</td>\n",
       "      <td>8.700892</td>\n",
       "    </tr>\n",
       "  </tbody>\n",
       "</table>\n",
       "<p>2920 rows × 4 columns</p>\n",
       "</div>"
      ],
      "text/plain": [
       "                       bx_gsm    by_gsm    bz_gsm        bt\n",
       "Timesteps                                                  \n",
       "2017-01-01 00:00:00 -4.384540  0.151482 -2.747153  5.864738\n",
       "2017-01-01 03:00:00 -2.083439 -0.208964 -2.461775  5.662317\n",
       "2017-01-01 06:00:00 -1.154902  0.917093 -1.160736  4.204290\n",
       "2017-01-01 09:00:00 -0.272552 -0.552822 -0.523117  4.356062\n",
       "2017-01-01 12:00:00  1.430231  2.103350 -0.312276  4.290185\n",
       "...                       ...       ...       ...       ...\n",
       "2017-12-31 09:00:00  3.658482 -2.430448  0.166257  4.530270\n",
       "2017-12-31 12:00:00  3.384390 -2.509963 -1.038631  4.461616\n",
       "2017-12-31 15:00:00  1.342645 -0.918524  0.149300  2.474354\n",
       "2017-12-31 18:00:00 -2.778200  5.822396 -3.293690  8.558351\n",
       "2017-12-31 21:00:00 -2.124427  2.230643 -4.455239  8.700892\n",
       "\n",
       "[2920 rows x 4 columns]"
      ]
     },
     "execution_count": 14,
     "metadata": {},
     "output_type": "execute_result"
    }
   ],
   "source": [
    "import numpy as np\n",
    "import pandas as pd\n",
    "\n",
    "df = pd.read_csv('./data/dsc_fc_summed_spectra_2017_v01.csv', delimiter=',', parse_dates=[0], infer_datetime_format=True, na_values='0', header=None)\n",
    "df[0] = pd.to_datetime(df[0])\n",
    "df = df.iloc[:, :4]\n",
    "df.columns = ['Timesteps', 'bx_gsm', 'by_gsm', 'bz_gsm']\n",
    "df['bt'] = np.sqrt(df['bx_gsm']**2 + df['by_gsm']**2 + df['bz_gsm']**2)\n",
    "df.set_index('Timesteps', inplace=True)\n",
    "\n",
    "df_resampled = df.resample('3H').mean()\n",
    "# Verifica el DataFrame resultante\n",
    "df_resampled"
   ]
  },
  {
   "cell_type": "code",
   "execution_count": null,
   "metadata": {},
   "outputs": [],
   "source": [
    "!pip3 install requests\n"
   ]
  }
 ],
 "metadata": {
  "kernelspec": {
   "display_name": "Python 3",
   "language": "python",
   "name": "python3"
  },
  "language_info": {
   "codemirror_mode": {
    "name": "ipython",
    "version": 3
   },
   "file_extension": ".py",
   "mimetype": "text/x-python",
   "name": "python",
   "nbconvert_exporter": "python",
   "pygments_lexer": "ipython3",
   "version": "3.11.4"
  }
 },
 "nbformat": 4,
 "nbformat_minor": 2
}
